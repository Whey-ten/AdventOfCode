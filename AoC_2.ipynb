{
  "nbformat": 4,
  "nbformat_minor": 0,
  "metadata": {
    "colab": {
      "provenance": [],
      "authorship_tag": "ABX9TyMUF+KxmJQTPjzMJ08PyVWp",
      "include_colab_link": true
    },
    "kernelspec": {
      "name": "python3",
      "display_name": "Python 3"
    },
    "language_info": {
      "name": "python"
    }
  },
  "cells": [
    {
      "cell_type": "markdown",
      "metadata": {
        "id": "view-in-github",
        "colab_type": "text"
      },
      "source": [
        "<a href=\"https://colab.research.google.com/github/Whey-ten/AdventOfCode/blob/main/AoC_2.ipynb\" target=\"_parent\"><img src=\"https://colab.research.google.com/assets/colab-badge.svg\" alt=\"Open In Colab\"/></a>"
      ]
    },
    {
      "cell_type": "markdown",
      "source": [
        "#Advent of Code day #2 "
      ],
      "metadata": {
        "id": "5WUYKvdqOZhN"
      }
    },
    {
      "cell_type": "markdown",
      "source": [
        "**Part 1**"
      ],
      "metadata": {
        "id": "nU6w4sxIzAci"
      }
    },
    {
      "cell_type": "code",
      "source": [
        "array_of_all_battles = []\n",
        "with open(\"/content/input_real_2.1.txt\") as file_in:\n",
        "  for line in file_in:\n",
        "    pom = line.rstrip('\\n')\n",
        "    array_of_all_battles.append(pom.split(' '))\n",
        "\n",
        "score_1 = 0\n",
        "dict_p1_win = {\n",
        "    \"A\" : \"Y\",\n",
        "    \"B\" : \"Z\",\n",
        "    \"C\" : \"X\"\n",
        "}\n",
        "\n",
        "dict_p1_loose = {\n",
        "    \"A\" : \"Z\",\n",
        "    \"B\" : \"X\",\n",
        "    \"C\" : \"Y\"\n",
        "}\n",
        "\n",
        "dict_p1_draw = {\n",
        "    \"A\" : \"X\",\n",
        "    \"B\" : \"Y\",\n",
        "    \"C\" : \"Z\"\n",
        "}\n",
        "\n",
        "dict_p1_value = {\n",
        "    \"X\" : 1,\n",
        "    \"Y\" : 2,\n",
        "    \"Z\" : 3\n",
        "}\n",
        "\n",
        "for elf, me in array_of_all_battles:\n",
        "  if(dict_p1_win[elf] == me):\n",
        "    score_1 += 6 + dict_p1_value[me]\n",
        "  elif(dict_p1_loose[elf] == me):\n",
        "    score_1 += dict_p1_value[me]\n",
        "  else:\n",
        "    score_1 += 3 + dict_p1_value[me]\n",
        "\n",
        "print(\"First score: \",score_1)"
      ],
      "metadata": {
        "id": "uPYbRBMwOicS"
      },
      "execution_count": null,
      "outputs": []
    },
    {
      "cell_type": "markdown",
      "source": [
        "**Part 2**"
      ],
      "metadata": {
        "id": "vxvUO2nXzH0S"
      }
    },
    {
      "cell_type": "code",
      "source": [
        "score_2 = 0\n",
        "dict_p2 = {\n",
        "    \"X\" : 0,\n",
        "    \"Y\" : 3,\n",
        "    \"Z\" : 6\n",
        "}\n",
        "\n",
        "dict_p2_win = {\n",
        "    \"A\" : 2,\n",
        "    \"B\" : 3,\n",
        "    \"C\" : 1\n",
        "}\n",
        "\n",
        "dict_p2_loose = {\n",
        "    \"A\" : 3,\n",
        "    \"B\" : 1,\n",
        "    \"C\" : 2\n",
        "}\n",
        "\n",
        "battle_p2_dict = {\n",
        "    \"A\" : 1,\n",
        "    \"B\" : 2,\n",
        "    \"C\" : 3\n",
        "}\n",
        "\n",
        "for elf, end in array_of_all_battles:\n",
        "  score_2 += dict_p2[end]\n",
        "  if(end == 'Y'):\n",
        "    score_2 += battle_p2_dict[elf]\n",
        "  elif(end == 'Z'):\n",
        "    score_2 += dict_p2_win[elf]\n",
        "  else:\n",
        "    score_2 += dict_p2_loose[elf]\n",
        "\n",
        "print(\"Second score: \", score_2)"
      ],
      "metadata": {
        "id": "alw4QNpLzHTn"
      },
      "execution_count": null,
      "outputs": []
    }
  ]
}