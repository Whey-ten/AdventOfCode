{
  "nbformat": 4,
  "nbformat_minor": 0,
  "metadata": {
    "colab": {
      "provenance": [],
      "authorship_tag": "ABX9TyNSbJxS9kahOZi7Jc/QeWYm",
      "include_colab_link": true
    },
    "kernelspec": {
      "name": "python3",
      "display_name": "Python 3"
    },
    "language_info": {
      "name": "python"
    }
  },
  "cells": [
    {
      "cell_type": "markdown",
      "metadata": {
        "id": "view-in-github",
        "colab_type": "text"
      },
      "source": [
        "<a href=\"https://colab.research.google.com/github/Whey-ten/AdventOfCode/blob/main/AoC_4.ipynb\" target=\"_parent\"><img src=\"https://colab.research.google.com/assets/colab-badge.svg\" alt=\"Open In Colab\"/></a>"
      ]
    },
    {
      "cell_type": "markdown",
      "source": [
        "\n",
        "#Advent of Code day #3\n",
        "\n",
        "**Part 1**\n",
        "\n",
        "---\n",
        "\n",
        "*Forgot to convert string to integer and spend 56min trying to debug \"logic\" of my code :)* "
      ],
      "metadata": {
        "id": "uAiTAnZEzWSV"
      }
    },
    {
      "cell_type": "code",
      "execution_count": null,
      "metadata": {
        "id": "BTYts-6EwIo2"
      },
      "outputs": [],
      "source": [
        "def part1():\n",
        "  result = 0\n",
        "  with open(\"/content/input.txt\") as file_in:\n",
        "    for line in file_in:\n",
        "      elf_left, elf_right = line.rstrip('\\n').split(',')\n",
        "      elf_left_s, elf_left_e = elf_left.split('-')\n",
        "      elf_right_s, elf_right_e = elf_right.split('-')\n",
        "\n",
        "      if int(elf_left_s) <= int(elf_right_s) and int(elf_left_e) >= int(elf_right_e):\n",
        "        result += 1\n",
        "      elif int(elf_right_s) <= int(elf_left_s) and int(elf_right_e) >= int(elf_left_e):\n",
        "        result += 1\n",
        "\n",
        "  return result\n",
        "  \n",
        "part1()"
      ]
    },
    {
      "cell_type": "markdown",
      "source": [
        "\n",
        "\n",
        "**Part 2**\n"
      ],
      "metadata": {
        "id": "3XB71EjxzacA"
      }
    },
    {
      "cell_type": "code",
      "source": [
        "def part2():\n",
        "  result = 0\n",
        "  with open(\"/content/input.txt\") as file_in:\n",
        "    for line in file_in:\n",
        "      elf_left, elf_right = line.rstrip('\\n').split(',')\n",
        "      elf_left_s, elf_left_e = elf_left.split('-')\n",
        "      elf_right_s, elf_right_e = elf_right.split('-')\n",
        "\n",
        "      if int(elf_left_s) == int(elf_right_s) or int(elf_left_e) == int(elf_right_e):\n",
        "        result += 1\n",
        "      elif int(elf_left_s) == int(elf_right_e) or int(elf_left_e) == int(elf_right_s):\n",
        "        result += 1\n",
        "      elif int(elf_left_s) < int(elf_right_s) and int(elf_right_s) < int(elf_left_e):\n",
        "        result += 1\n",
        "      elif int(elf_right_s) < int(elf_left_s) and int(elf_left_s) < int(elf_right_e):\n",
        "        result += 1\n",
        "\n",
        "  return result\n",
        "  \n",
        "part2()"
      ],
      "metadata": {
        "id": "TsEVy-rn5jBn"
      },
      "execution_count": null,
      "outputs": []
    }
  ]
}