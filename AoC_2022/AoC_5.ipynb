{
  "nbformat": 4,
  "nbformat_minor": 0,
  "metadata": {
    "colab": {
      "provenance": [],
      "authorship_tag": "ABX9TyOzLMZ/hyXbGpLwWzhD6D75",
      "include_colab_link": true
    },
    "kernelspec": {
      "name": "python3",
      "display_name": "Python 3"
    },
    "language_info": {
      "name": "python"
    }
  },
  "cells": [
    {
      "cell_type": "markdown",
      "metadata": {
        "id": "view-in-github",
        "colab_type": "text"
      },
      "source": [
        "<a href=\"https://colab.research.google.com/github/Whey-ten/AdventOfCode/blob/main/AoC_2022/AoC_5.ipynb\" target=\"_parent\"><img src=\"https://colab.research.google.com/assets/colab-badge.svg\" alt=\"Open In Colab\"/></a>"
      ]
    },
    {
      "cell_type": "markdown",
      "source": [
        "#Advent of Code day #5\n",
        "\n",
        "**Part 1**"
      ],
      "metadata": {
        "id": "kclMnEl2u5W_"
      }
    },
    {
      "cell_type": "code",
      "execution_count": null,
      "metadata": {
        "id": "4EU4EwtKgJHA"
      },
      "outputs": [],
      "source": [
        "def part1():\n",
        "  lists = [[] for _ in range(9)]\n",
        "  loading = True\n",
        "  result = \"\"\n",
        "  with open(\"/content/input.txt\") as file_in:\n",
        "      for line in file_in:\n",
        "        line_clean = line.rstrip('\\n')\n",
        "        #load boxes to stacks\n",
        "        if(loading):\n",
        "          line_new = line_clean[1:]\n",
        "          line_new_2 = line_new[::4]\n",
        "          for x in range(0, len(line_new_2)):\n",
        "            if(line_new_2[x] == ' '):\n",
        "              continue\n",
        "            elif(ord(line_new_2[x]) < ord('A')):\n",
        "              loading = False\n",
        "            else:\n",
        "              lists[x].append(line_new_2[x])\n",
        "        #execute instuctions\n",
        "        else:\n",
        "          if(len(line_clean) == 0):\n",
        "            for x in lists:\n",
        "              x.reverse()\n",
        "            continue\n",
        "          array_orders = line_clean.split(' ')\n",
        "          n_boxes = int(array_orders[1])\n",
        "          s_from = int(array_orders[3]) - 1\n",
        "          s_to = int(array_orders[5]) - 1\n",
        "          for x in range(n_boxes):\n",
        "            box = lists[s_from].pop()\n",
        "            lists[s_to].append(box)\n",
        "      \n",
        "      \n",
        "      for x in range(0, len(lists)):\n",
        "        result += lists[x].pop()\n",
        "      \n",
        "      return result\n",
        "\n",
        "part1()"
      ]
    },
    {
      "cell_type": "markdown",
      "source": [
        "**Part 2**"
      ],
      "metadata": {
        "id": "MXynpS33u85W"
      }
    },
    {
      "cell_type": "code",
      "source": [
        "def part2():\n",
        "  lists = [[] for _ in range(9)]\n",
        "  loading = True\n",
        "  result = \"\"\n",
        "  with open(\"/content/input.txt\") as file_in:\n",
        "      for line in file_in:\n",
        "        line_clean = line.rstrip('\\n')\n",
        "        #load boxes to stacks\n",
        "        if(loading):\n",
        "          line_new = line_clean[1:]\n",
        "          line_new_2 = line_new[::4]\n",
        "          for x in range(0, len(line_new_2)):\n",
        "            if(line_new_2[x] == ' '):\n",
        "              continue\n",
        "            elif(ord(line_new_2[x]) < ord('A')):\n",
        "              loading = False\n",
        "            else:\n",
        "              lists[x].append(line_new_2[x])\n",
        "        #execute instuctions\n",
        "        else:\n",
        "          #on empty line reorder stacks correctly \n",
        "          if(len(line_clean) == 0):\n",
        "            for x in lists:\n",
        "              x.reverse()\n",
        "            continue\n",
        "          array_orders = line_clean.split(' ')\n",
        "          n_boxes = int(array_orders[1])\n",
        "          s_from = int(array_orders[3]) - 1\n",
        "          s_to = int(array_orders[5]) - 1\n",
        "\n",
        "          #load crane hand\n",
        "          crane_hand = []\n",
        "          for x in range(n_boxes):\n",
        "            box = lists[s_from].pop()\n",
        "            crane_hand.append(box)\n",
        "          #fix crane hand\n",
        "          crane_hand.reverse()\n",
        "          #unload crane hand\n",
        "          for x in crane_hand:\n",
        "            lists[s_to].append(x)\n",
        "      \n",
        "      \n",
        "      for x in range(0, len(lists)):\n",
        "        result += lists[x].pop()\n",
        "      \n",
        "      return result\n",
        "\n",
        "part2()"
      ],
      "metadata": {
        "id": "02dYfYhNtyVL"
      },
      "execution_count": null,
      "outputs": []
    }
  ]
}