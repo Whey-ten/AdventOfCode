{
  "nbformat": 4,
  "nbformat_minor": 0,
  "metadata": {
    "colab": {
      "provenance": [],
      "authorship_tag": "ABX9TyMKi37Aqnrxo8qmWV1ilv2S",
      "include_colab_link": true
    },
    "kernelspec": {
      "name": "python3",
      "display_name": "Python 3"
    },
    "language_info": {
      "name": "python"
    }
  },
  "cells": [
    {
      "cell_type": "markdown",
      "metadata": {
        "id": "view-in-github",
        "colab_type": "text"
      },
      "source": [
        "<a href=\"https://colab.research.google.com/github/Whey-ten/AdventOfCode/blob/main/AoC_2022/AoC_3.ipynb\" target=\"_parent\"><img src=\"https://colab.research.google.com/assets/colab-badge.svg\" alt=\"Open In Colab\"/></a>"
      ]
    },
    {
      "cell_type": "markdown",
      "source": [
        "\n",
        "#Advent of Code day #3\n",
        "\n",
        "**Part 1**\n"
      ],
      "metadata": {
        "id": "wadiIFOcxWRs"
      }
    },
    {
      "cell_type": "code",
      "source": [
        "sum_part_1 = 0\n",
        "\n",
        "with open(\"/content/input_real_2.1.txt\") as file_in:\n",
        "  for line in file_in:\n",
        "    pom = line.rstrip('\\n')\n",
        "    chars = list(pom)\n",
        "    arr_part_1 = []\n",
        "    arr_part_2 = []\n",
        "    for x in range(0, int(len(chars))):\n",
        "      if(x < int(len(chars)/2)):\n",
        "        arr_part_1.append(chars[x])\n",
        "      else:\n",
        "        arr_part_2.append(chars[x])\n",
        "    \n",
        "    recuring = '';\n",
        "    for char_1 in arr_part_1:\n",
        "      if char_1 in arr_part_2:\n",
        "        if(ord(char_1) >= ord('a')):\n",
        "          num = ord(char_1) - 96\n",
        "          sum_part_1 += num\n",
        "        else:\n",
        "          num = ord(char_1) - 38\n",
        "          sum_part_1 += num\n",
        "        break\n",
        "\n",
        "print(sum_part_1)\n",
        "          \n"
      ],
      "metadata": {
        "id": "uoJwdM4NcKU0"
      },
      "execution_count": null,
      "outputs": []
    },
    {
      "cell_type": "markdown",
      "source": [
        "**Part 2**\n"
      ],
      "metadata": {
        "id": "VnyG0NBixa6x"
      }
    },
    {
      "cell_type": "code",
      "source": [
        "counter = 0\n",
        "arr_all_teams = []\n",
        "arr_single_team = []\n",
        "sum_part_2 = 0\n",
        "\n",
        "with open(\"/content/input_real_2.1.txt\") as file_in:\n",
        "  for line in file_in:\n",
        "    pom = line.rstrip('\\n')\n",
        "    arr_single_team.append(pom)\n",
        "    counter += 1\n",
        "    if(counter == 3):\n",
        "      arr_all_teams.append(arr_single_team)\n",
        "      arr_single_team = []\n",
        "      counter = 0\n",
        "\n",
        "for team_1, team_2, team_3 in arr_all_teams:\n",
        "  team_1_list = list(team_1)\n",
        "  team_2_list = list(team_2)\n",
        "  team_3_list = list(team_3)\n",
        "  for char in team_1_list:\n",
        "    if(char in team_2_list and char in team_3_list):\n",
        "      if(ord(char) >= ord('a')):\n",
        "          num = ord(char) - 96\n",
        "          sum_part_2 += num\n",
        "      else:\n",
        "          num = ord(char) - 38\n",
        "          sum_part_2 += num\n",
        "      break\n",
        "\n",
        "print(sum_part_2)"
      ],
      "metadata": {
        "id": "5Y1jrMoGpLlf"
      },
      "execution_count": null,
      "outputs": []
    }
  ]
}