{
  "nbformat": 4,
  "nbformat_minor": 0,
  "metadata": {
    "colab": {
      "provenance": [],
      "authorship_tag": "ABX9TyMms53kQLAPFw+yHe+8/UQ6",
      "include_colab_link": true
    },
    "kernelspec": {
      "name": "python3",
      "display_name": "Python 3"
    },
    "language_info": {
      "name": "python"
    }
  },
  "cells": [
    {
      "cell_type": "markdown",
      "metadata": {
        "id": "view-in-github",
        "colab_type": "text"
      },
      "source": [
        "<a href=\"https://colab.research.google.com/github/Whey-ten/AdventOfCode/blob/main/AoC_2022/AoC_6.ipynb\" target=\"_parent\"><img src=\"https://colab.research.google.com/assets/colab-badge.svg\" alt=\"Open In Colab\"/></a>"
      ]
    },
    {
      "cell_type": "markdown",
      "source": [
        "\n",
        "#Advent of Code day #6\n",
        "\n",
        "**Part 1**\n"
      ],
      "metadata": {
        "id": "M92wclMkbsBB"
      }
    },
    {
      "cell_type": "code",
      "source": [
        "def part1():\n",
        "  result = 0\n",
        "  line = open(\"/content/input.txt\").read()\n",
        "  msg = list(line)\n",
        "  arr = []\n",
        "  for char in msg:\n",
        "    if len(arr) == 4:\n",
        "      return result\n",
        "\n",
        "    if char in arr:\n",
        "      arr = []\n",
        "      arr.append(char)\n",
        "    else:\n",
        "      arr.append(char)\n",
        "    result += 1\n",
        "\n",
        "part1()"
      ],
      "metadata": {
        "id": "fivmhubHbwB7"
      },
      "execution_count": null,
      "outputs": []
    },
    {
      "cell_type": "markdown",
      "source": [
        "**Part 2**"
      ],
      "metadata": {
        "id": "eYg905f7bxLa"
      }
    },
    {
      "cell_type": "code",
      "source": [
        "def part2():\n",
        "  result = 0\n",
        "  lf = 0\n",
        "  line = open(\"/content/input.txt\").read()\n",
        "  msg = list(line)\n",
        "  arr = []\n",
        "  for char in msg:\n",
        "    if len(arr) == 14:\n",
        "      return result\n",
        "\n",
        "    if char in arr:\n",
        "      index = arr.index(char)\n",
        "      arr = arr[index+1:]\n",
        "      arr.append(char)\n",
        "    else:\n",
        "      arr.append(char)\n",
        "    result += 1\n",
        "\n",
        "part2()"
      ],
      "metadata": {
        "id": "qSoJEAU6b1nY"
      },
      "execution_count": null,
      "outputs": []
    }
  ]
}