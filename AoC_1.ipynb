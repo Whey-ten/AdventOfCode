{
  "nbformat": 4,
  "nbformat_minor": 0,
  "metadata": {
    "colab": {
      "provenance": [],
      "authorship_tag": "ABX9TyNiWmYzgrHdg11RVo9tndx1",
      "include_colab_link": true
    },
    "kernelspec": {
      "name": "python3",
      "display_name": "Python 3"
    },
    "language_info": {
      "name": "python"
    }
  },
  "cells": [
    {
      "cell_type": "markdown",
      "metadata": {
        "id": "view-in-github",
        "colab_type": "text"
      },
      "source": [
        "<a href=\"https://colab.research.google.com/github/Whey-ten/AdventOfCode/blob/main/AoC_1.ipynb\" target=\"_parent\"><img src=\"https://colab.research.google.com/assets/colab-badge.svg\" alt=\"Open In Colab\"/></a>"
      ]
    },
    {
      "cell_type": "markdown",
      "source": [
        "# Advent of Code day #1"
      ],
      "metadata": {
        "id": "CdjJ7HTg0iBv"
      }
    },
    {
      "cell_type": "code",
      "execution_count": null,
      "metadata": {
        "id": "aYWg1ofB0dKw"
      },
      "outputs": [],
      "source": [
        "array_of_all_elves = []\n",
        "with open(\"/content/input_real_1.1.txt\") as file_in:\n",
        "    single_elf = 0\n",
        "    for line in file_in:\n",
        "      if line == '\\n':\n",
        "        array_of_all_elves.append(single_elf)\n",
        "        single_elf = 0\n",
        "      else:\n",
        "        number = int(line.rstrip('\\n'))\n",
        "        single_elf += number\n",
        "        \n",
        "array_of_all_elves.sort(reverse=True)"
      ]
    },
    {
      "cell_type": "markdown",
      "source": [
        "**Part 1**"
      ],
      "metadata": {
        "id": "volUGKZQzW3S"
      }
    },
    {
      "cell_type": "code",
      "source": [
        "print(array_of_all_elves[0])"
      ],
      "metadata": {
        "id": "lVZvWHSf25M3"
      },
      "execution_count": null,
      "outputs": []
    },
    {
      "cell_type": "markdown",
      "source": [
        "**Part 2**"
      ],
      "metadata": {
        "id": "jvsk_sykzdSD"
      }
    },
    {
      "cell_type": "code",
      "source": [
        "result = array_of_all_elves[0] + array_of_all_elves[1] + array_of_all_elves[2]\n",
        "print(result)"
      ],
      "metadata": {
        "id": "zIXuXx5cun1f"
      },
      "execution_count": null,
      "outputs": []
    }
  ]
}